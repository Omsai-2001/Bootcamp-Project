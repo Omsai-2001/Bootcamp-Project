{
 "cells": [
  {
   "cell_type": "code",
   "execution_count": 2,
   "metadata": {},
   "outputs": [
    {
     "name": "stdout",
     "output_type": "stream",
     "text": [
      "String : python.com\n",
      "Hash Value : <md5 HASH object @ 0x000001AFDD96E470>\n",
      "Hexadecimal equivalent:  ad803822a03c14f06ad1e1fabb6a36a7\n"
     ]
    }
   ],
   "source": [
    "import hashlib \n",
    "string = \"python.com\"\n",
    "encoded=string.encode()\n",
    "result = hashlib.md5(encoded)\n",
    "print(\"String : \", end =\"\")\n",
    "print(string)\n",
    "print(\"Hash Value : \", end =\"\")\n",
    "print(result)\n",
    "print(\"Hexadecimal equivalent: \",result.hexdigest())"
   ]
  }
 ],
 "metadata": {
  "kernelspec": {
   "display_name": "Python 3",
   "language": "python",
   "name": "python3"
  },
  "language_info": {
   "codemirror_mode": {
    "name": "ipython",
    "version": 3
   },
   "file_extension": ".py",
   "mimetype": "text/x-python",
   "name": "python",
   "nbconvert_exporter": "python",
   "pygments_lexer": "ipython3",
   "version": "3.8.3"
  }
 },
 "nbformat": 4,
 "nbformat_minor": 4
}
